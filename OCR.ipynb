{
 "cells": [
  {
   "cell_type": "markdown",
   "id": "8f8130be",
   "metadata": {},
   "source": [
    "# Optical Charactor Recgnition(OCR)"
   ]
  },
  {
   "cell_type": "markdown",
   "id": "bed6f17e",
   "metadata": {},
   "source": [
    "OCR stands for Optical Character Recognition and refers to a software technology that electronically identifies text (written or printed) inside an image file or physical document, such as a scanned document, and converts it into a machine-readable text form to be used for data processing.\n",
    "\n",
    "In short, optical character recognition software helps convert images or physical documents into a searchable form. Examples of OCR are text extraction tools, PDF to .txt converters, and Google’s image search function."
   ]
  },
  {
   "cell_type": "markdown",
   "id": "9e416d89",
   "metadata": {},
   "source": [
    "# Scene Text Recognition(STR)"
   ]
  },
  {
   "cell_type": "markdown",
   "id": "03e4a9f9",
   "metadata": {},
   "source": [
    "In computer vision, machines can read text in natural scenes by first detecting text regions, cropping those regions, and subsequently recognizing text in those regions. The vision task of recognizing text from the cropped regions is called Scene Text Recognition (STR). STR makes it possible to read road signs, billboards, logos, and printed objects such as text on shirts, paper bills, etc. STR applications include practical use cases such as self-driving cars, augmented reality, retail analysis, education, devices for the visually impaired, and others."
   ]
  },
  {
   "cell_type": "markdown",
   "id": "182b027d",
   "metadata": {},
   "source": [
    "# The Process of OCR \n",
    "\n",
    "In the following, we will show how optical character recognition works and explain the main steps of traditional OCR technologies.   \n",
    "\n",
    "### 1. Scanning the Document \n",
    "\n",
    "### 2. Refining the Image \n",
    "\n",
    "### 3. Binarization \n",
    "\n",
    "### 4. Recognizing the Characters  \n",
    "\n",
    "### 5. Verifying the Accuracy\n",
    "\n",
    "After the successful recognition of characters, the results are cross-referenced by utilizing the internal dictionaries of the OCR software to ensure accuracy. Measuring OCR accuracy is done by taking the output of an analysis conducted by an OCR and comparing it to the contents of the original version. \n",
    "There are two typical methods for analyzing the accuracy of OCR software: \n",
    "                  Character-level accuracy, counting how many characters were detected correctly. \n",
    "                  Word-level accuracy, counting how many words were recognized correctly.  "
   ]
  },
  {
   "cell_type": "markdown",
   "id": "1550ece9",
   "metadata": {},
   "source": [
    "# Tesseract OCR \n",
    "\n",
    "\n",
    "Tesseract is a character recognition engine that can read scanned text and convert it into digital text. It is open-source software that is released under the Apache License 2.0. Tesseract is available for various operating systems, including Windows, Linux, and Mac OS X. Hence, Tesseract is a popular tool to recognize text in images, such as scanned documents and digital photos. Tesseract is accurate and efficient, and it can handle a variety of languages"
   ]
  },
  {
   "cell_type": "markdown",
   "id": "de4f50eb",
   "metadata": {},
   "source": [
    "# Optical Character Recognition Source\n",
    " \n",
    "\n",
    "\n",
    "\n",
    "## Installation of Tesseract OCR:\n",
    "\n",
    "Download the latest installer for windows 10 from “https://github.com/UB-Mannheim/tesseract/wiki“. Execute the .exe file once it is downloaded.\n",
    "\n",
    "Note: Don’t forget to copy the file software installation path. We will require it later as we need to add the path of the tesseract executable in the code if the directory of installation is different from the default.\n",
    "\n",
    "The typical installation path in Windows systems is C:Program Files.\n",
    "\n",
    "So, in my case, it is “C: Program FilesTesseract-OCRtesseract.exe“.\n",
    "\n",
    "Next, to install the Python wrapper for Tesseract, open the command prompt and execute the command “pip install pytesseract“.\n"
   ]
  },
  {
   "cell_type": "markdown",
   "id": "6f4816f0",
   "metadata": {},
   "source": [
    "\n",
    "\n",
    "# 1. Reading a sample Image"
   ]
  },
  {
   "cell_type": "code",
   "execution_count": 1,
   "id": "a1f1133a",
   "metadata": {},
   "outputs": [],
   "source": [
    "import cv2\n",
    "\n",
    "# Read the image using cv2.imread() method and store it in a variable \"img\"\n",
    "img = cv2.imread(\"C:/Users/DEVASISH/OneDrive\\Pictures\\ihk.jpg\")\n",
    "\n",
    "# If needed, resize the image using cv2.resize() method\n",
    "img = cv2.resize(img, (400, 400))\n",
    "\n",
    "# Display the image using cv2.imshow() method\n",
    "cv2.imshow(\"Image\", img)  # Provide a window name as the first argument\n",
    "\n",
    "# Display the window infinitely (to prevent the kernel from crashing)\n",
    "cv2.waitKey(0)\n",
    "\n",
    "# Close all open windows\n",
    "cv2.destroyAllWindows()"
   ]
  },
  {
   "cell_type": "markdown",
   "id": "3557905f",
   "metadata": {},
   "source": [
    "# 2. Converting Image to String"
   ]
  },
  {
   "cell_type": "code",
   "execution_count": 2,
   "id": "c5db25dc",
   "metadata": {},
   "outputs": [
    {
     "name": "stdout",
     "output_type": "stream",
     "text": [
      "Instaling Tesseract on Windows\n",
      "\n",
      "Please note thatthe PyimageSearch team ancl do not officially support Windows,\n",
      "except for customers who use our pre-configured JupyterColab Notebooks, which\n",
      "you can find at PylmageSearch University, Thesenotebooks run on all\n",
      "\n",
      "environments, inclucing macOS, Linux, and Windows,\n",
      "\n",
      "We instead recommend using a Unix-hased machine such a Linux/Ubuntu or\n",
      "macOS, both of which ae better suited for develoging comouter vision, deep\n",
      "\n",
      "fearing and OCR projects.\n",
      "\n",
      "That sac, you wish to install Tesseract on Windows, we recommend that you\n",
      "\n",
      "follow the oficial Windous instal instructions put together bythe Tesseract team,\n",
      "\n",
      "\n"
     ]
    }
   ],
   "source": [
    "import cv2\n",
    "import pytesseract\n",
    "\n",
    "pytesseract.pytesseract.tesseract_cmd = r\"C:\\Program Files\\Tesseract-OCR\\tesseract.exe\"\n",
    "img = cv2.imread(r\"C:\\Users\\DEVASISH\\OneDrive\\Pictures\\ihk.jpg\")\n",
    "img = cv2.resize(img, (400, 450))\n",
    "cv2.imshow(\"Image\", img)\n",
    "text = pytesseract.image_to_string(img)\n",
    "print(text)\n",
    "cv2.waitKey(0)\n",
    "cv2.destroyAllWindows()"
   ]
  },
  {
   "cell_type": "markdown",
   "id": "5b5248c5",
   "metadata": {},
   "source": [
    "\"C:/Users/DEVASISH/OneDrive/Pictures/Screenshots/2023-07-18.png\""
   ]
  },
  {
   "cell_type": "markdown",
   "id": "c365eee7",
   "metadata": {},
   "source": [
    "# 3. coverts to telugu language"
   ]
  },
  {
   "cell_type": "code",
   "execution_count": 2,
   "id": "fada3edb",
   "metadata": {},
   "outputs": [
    {
     "name": "stdout",
     "output_type": "stream",
     "text": [
      "1౧518111౧౮ 16556261 ౦౧ 1/1/1౧౮౦1%5\n",
      "\n",
      "[016856 ౧౦1౭ (1౧౩1౪ (౧6 ౨/1౧౧౩౮౦ 65680౧ 168౧1 8౧౮ | ౧౦ ౧౦౬ ౦1161811)/ 5400011 'గ/1౧౮౦'1%5,\n",
      "ఆఅ౦ంఆ౦1౬ 10 ౦510౧165 11/౧౦ 456 ౦|| 0౧౭-౦౦౧|19౪6౮ ౮ ౮40)16/00180 గ|01600015, ౪/|౧|౦౧\n",
      "3/04 ౦8౧ 11౧౮ 8౪ ౧౧౭౩౩65686 ౮ ౧|౪౭|5|0/. 1౧656 ౧౦18600015 (4౧ ౦౧ 8||\n",
      "\n",
      "ఆ౧౪|౧౦౧౧౧౭౧1౯, 1౧౦1౮1౧౦ ౧౧౩౦౦౩, 1౧౬౮౫, 8౧౮ 'గ/1౧౮౦1౪%5.\n",
      "\n",
      "11/6 1౧5౪680 [600౧1౧౧6౧౮ 451౧9 & ౮౧)-౦౨౭5ఆ౮ గా౭౦|౧1|౧౭ 540౧ 85 ౬1౧౮౮౦౮౧౪౬ ౦౯\n",
      "గాక౭౦౦క5, 0౦1౧ ౦1౪౧౦౧ 8/6 0616౯ 54160 10 16%/61001౧9 ౦౦౧౦౪౪6 1510౧, ౮660\n",
      "\n",
      "168౧1౧౦, 8౧౮ ౦౦౧ 00]6015.\n",
      "\n",
      "1౧81 5810, 11/01 ౪/5౧ 10 1౧51౪81 16556801 ౦౧ 111౧౮౦15, ౪/6 600౧౧6౧౮ 11౧౩1)/౦|\n",
      "\n",
      "10101౪ (1౧6 ౦116181 1గ/1౧౮౦1౪%5 1౧5181 1౧51౪౧|౦|౧1౦౧5 0౪ 109611౧6 0)/ (1౧౮ 16556861 168111.\n",
      "\n"
     ]
    }
   ],
   "source": [
    "import pytesseract\n",
    "from PIL import Image\n",
    "\n",
    "def extract_textimage(image_path):\n",
    "    try:\n",
    "        img = Image.open(image_path)\n",
    "        # Specify the path to the directory containing language data files\n",
    "        pytesseract.pytesseract.tesseract_cmd = r'C:\\Program Files\\Tesseract-OCR\\tesseract.exe'\n",
    "        tessdata_dir_config = r'--tessdata-dir \"C:\\Program Files\\Tesseract-OCR\\tessdata\"'\n",
    "        # Specify the language as Telugu (tel)\n",
    "        text = pytesseract.image_to_string(img, lang='tel', config=tessdata_dir_config)\n",
    "        return text\n",
    "    except Exception as e:\n",
    "        print(f\"Error extracting text: {e}\")\n",
    "        return None\n",
    "\n",
    "# Example usage\n",
    "image_path = r\"C:\\Users\\DEVASISH\\OneDrive\\Pictures\\ihk.jpg\"\n",
    "extracted_text = extract_textimage(image_path)\n",
    "print(extracted_text)"
   ]
  }
 ],
 "metadata": {
  "kernelspec": {
   "display_name": "Python 3 (ipykernel)",
   "language": "python",
   "name": "python3"
  },
  "language_info": {
   "codemirror_mode": {
    "name": "ipython",
    "version": 3
   },
   "file_extension": ".py",
   "mimetype": "text/x-python",
   "name": "python",
   "nbconvert_exporter": "python",
   "pygments_lexer": "ipython3",
   "version": "3.9.7"
  }
 },
 "nbformat": 4,
 "nbformat_minor": 5
}
